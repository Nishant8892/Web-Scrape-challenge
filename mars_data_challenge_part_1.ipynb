{
 "cells": [
  {
   "cell_type": "code",
   "execution_count": 1,
   "id": "4202faf0",
   "metadata": {},
   "outputs": [],
   "source": [
    "# import functions\n",
    "import numpy as np\n",
    "import pandas as pd\n",
    "from splinter import Browser\n",
    "from bs4 import BeautifulSoup as bs\n",
    "import pymongo\n",
    "from webdriver_manager.chrome import ChromeDriverManager\n",
    "import time\n",
    "import requests\n",
    "import re"
   ]
  },
  {
   "cell_type": "code",
   "execution_count": 2,
   "id": "cc3babfa",
   "metadata": {},
   "outputs": [
    {
     "name": "stderr",
     "output_type": "stream",
     "text": [
      "[WDM] - Downloading: 100%|████████████████████████████████████████████████████████| 6.29M/6.29M [00:01<00:00, 4.57MB/s]\n"
     ]
    }
   ],
   "source": [
    "# executable path\n",
    "executable_path = {'executable_path': ChromeDriverManager().install()}\n",
    "browser = Browser('chrome', **executable_path, headless=False)"
   ]
  },
  {
   "cell_type": "code",
   "execution_count": 3,
   "id": "6e6e9ca9",
   "metadata": {},
   "outputs": [],
   "source": [
    "url = \"https://redplanetscience.com/\""
   ]
  },
  {
   "cell_type": "code",
   "execution_count": 4,
   "id": "11f52d42",
   "metadata": {},
   "outputs": [],
   "source": [
    "browser.visit(url)\n",
    "time.sleep(3)\n",
    "html = browser.html\n",
    "soup = bs(html, 'html.parser')"
   ]
  },
  {
   "cell_type": "code",
   "execution_count": 5,
   "id": "e96bc07e",
   "metadata": {},
   "outputs": [
    {
     "name": "stdout",
     "output_type": "stream",
     "text": [
      "------------------------------------------------------------------------------------\n",
      "Title:  NASA's Mars 2020 Heads Into the Test Chamber\n",
      "Paragraph: In this time-lapse video taken at JPL, engineers move the Mars 2020 rover into a large vacuum chamber for testing in Mars-like environmental conditions.\n",
      "Date posted: October 27, 2022\n"
     ]
    }
   ],
   "source": [
    "news_title = soup.find('div', class_='content_title').text\n",
    "news_p = soup.find('div', class_='article_teaser_body').text\n",
    "date = soup.find('div', class_='list_date').text  \n",
    "print(\"------------------------------------------------------------------------------------\")\n",
    "print(\"Title: \",news_title)\n",
    "print(\"Paragraph:\",news_p)\n",
    "print(\"Date posted:\",date)"
   ]
  },
  {
   "cell_type": "code",
   "execution_count": 6,
   "id": "e11992a7",
   "metadata": {},
   "outputs": [
    {
     "name": "stdout",
     "output_type": "stream",
     "text": [
      "------------------------------------------------------------------------------------\n",
      "Title:  NASA's Mars 2020 Heads Into the Test Chamber\n",
      "Paragraph: In this time-lapse video taken at JPL, engineers move the Mars 2020 rover into a large vacuum chamber for testing in Mars-like environmental conditions.\n",
      "Date posted: October 27, 2022\n",
      "------------------------------------------------------------------------------------\n",
      "Title:  6 Things to Know About NASA's Ingenuity Mars Helicopter\n",
      "Paragraph: The first helicopter attempting to fly on another planet is a marvel of engineering. Get up to speed with these key facts about its plans.\n",
      "Date posted: October 27, 2022\n",
      "------------------------------------------------------------------------------------\n",
      "Title:  AI Is Helping Scientists Discover Fresh Craters on Mars\n",
      "Paragraph: It's the first time machine learning has been used to find previously unknown craters on the Red Planet.\n",
      "Date posted: October 27, 2022\n",
      "------------------------------------------------------------------------------------\n",
      "Title:  All About the Laser (and Microphone) Atop Mars 2020, NASA's Next Rover\n",
      "Paragraph: SuperCam is a rock-vaporizing instrument that will help scientists hunt for Mars fossils.\n",
      "Date posted: October 27, 2022\n",
      "------------------------------------------------------------------------------------\n",
      "Title:  NASA Updates Mars 2020 Mission Environmental Review\n",
      "Paragraph: NASA and the Department of Energy have completed a more detailed risk analysis for the Mars 2020 rover launch from Florida.\n",
      "Date posted: October 23, 2022\n",
      "------------------------------------------------------------------------------------\n",
      "Title:  NASA's Perseverance Rover Will Look at Mars Through These 'Eyes'\n",
      "Paragraph: A pair of zoomable cameras will help scientists and rover drivers with high-resolution color images.\n",
      "Date posted: October 14, 2022\n",
      "------------------------------------------------------------------------------------\n",
      "Title:  NASA's Perseverance Rover Will Peer Beneath Mars' Surface \n",
      "Paragraph: The agency's newest rover will use the first ground-penetrating radar instrument on the Martian surface to help search for signs of past microbial life. \n",
      "Date posted: October 9, 2022\n",
      "------------------------------------------------------------------------------------\n",
      "Title:  NASA Establishes Board to Initially Review Mars Sample Return Plans\n",
      "Paragraph: The board will assist with analysis of current plans and goals for one of the most difficult missions humanity has ever undertaken.\n",
      "Date posted: October 8, 2022\n",
      "------------------------------------------------------------------------------------\n",
      "Title:  MOXIE Could Help Future Rockets Launch Off Mars\n",
      "Paragraph: NASA's Perseverance rover carries a device to convert Martian air into oxygen that, if produced on a larger scale, could be used not just for breathing, but also for fuel.\n",
      "Date posted: October 7, 2022\n",
      "------------------------------------------------------------------------------------\n",
      "Title:  NASA to Broadcast Mars 2020 Perseverance Launch, Prelaunch Activities\n",
      "Paragraph: Starting July 27, news activities will cover everything from mission engineering and science to returning samples from Mars to, of course, the launch itself.\n",
      "Date posted: October 7, 2022\n",
      "------------------------------------------------------------------------------------\n",
      "Title:  NASA's Mars Perseverance Rover Passes Flight Readiness Review\n",
      "Paragraph: ​The agency's Mars 2020 mission has one more big prelaunch review – the Launch Readiness Review, on July 27.\n",
      "Date posted: October 6, 2022\n",
      "------------------------------------------------------------------------------------\n",
      "Title:  NASA's Perseverance Rover Is Midway to Mars \n",
      "Paragraph: Sometimes half measures can be a good thing – especially on a journey this long. The agency's latest rover only has about 146 million miles left to reach its destination.\n",
      "Date posted: September 30, 2022\n",
      "------------------------------------------------------------------------------------\n",
      "Title:  Nine Finalists Chosen in NASA's Mars 2020 Rover Naming Contest\n",
      "Paragraph: Nine finalists have been chosen in the essay contest for K-12 students across U.S. to name NASA's next Mars rover. Now you can help by voting for your favorite. \n",
      "Date posted: September 30, 2022\n",
      "------------------------------------------------------------------------------------\n",
      "Title:  Three New Views of Mars' Moon Phobos\n",
      "Paragraph: Taken with the infrared camera aboard NASA's Odyssey orbiter, they reveal temperature variations on the small moon as it drifts into and out of Mars’ shadow.\n",
      "Date posted: September 29, 2022\n",
      "------------------------------------------------------------------------------------\n",
      "Title:  NASA's Push to Save the Mars InSight Lander's Heat Probe\n",
      "Paragraph: The scoop on the end of the spacecraft's robotic arm will be used to 'pin' the mole against the wall of its hole.\n",
      "Date posted: September 27, 2022\n"
     ]
    }
   ],
   "source": [
    "# Retrieve the parent divs for all latest news\n",
    "results = soup.find_all('div', class_='list_text')\n",
    "\n",
    "# loop over results to get list\n",
    "for result in results:\n",
    "    # scrape the news title\n",
    "    news_title = result.find('div', class_='content_title').text\n",
    "    \n",
    "    # scrape the news  paragraph\n",
    "    news_p = result.find('div', class_='article_teaser_body').text\n",
    "    \n",
    "    # scrape article posted date \n",
    "    date = result.find('div', class_='list_date').text\n",
    "    \n",
    "\n",
    "    # print article data\n",
    "    print(\"------------------------------------------------------------------------------------\")\n",
    "    print(\"Title: \",news_title)\n",
    "    print(\"Paragraph:\",news_p)\n",
    "    print(\"Date posted:\",date)\n",
    "    \n",
    "    \n",
    "    # Dictionary to be inserted into MongoDB\n",
    "    post = {\n",
    "    'title': news_title,\n",
    "    'paragraph': news_p,\n",
    "    'date': date\n",
    "    }"
   ]
  },
  {
   "cell_type": "code",
   "execution_count": null,
   "id": "647cba42",
   "metadata": {},
   "outputs": [],
   "source": []
  }
 ],
 "metadata": {
  "kernelspec": {
   "display_name": "Python 3 (ipykernel)",
   "language": "python",
   "name": "python3"
  },
  "language_info": {
   "codemirror_mode": {
    "name": "ipython",
    "version": 3
   },
   "file_extension": ".py",
   "mimetype": "text/x-python",
   "name": "python",
   "nbconvert_exporter": "python",
   "pygments_lexer": "ipython3",
   "version": "3.9.12"
  }
 },
 "nbformat": 4,
 "nbformat_minor": 5
}
